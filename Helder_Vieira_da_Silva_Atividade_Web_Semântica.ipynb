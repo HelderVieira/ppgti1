{
  "nbformat": 4,
  "nbformat_minor": 0,
  "metadata": {
    "colab": {
      "provenance": [],
      "collapsed_sections": [
        "rNeTOpkDC4P9"
      ],
      "include_colab_link": true
    },
    "kernelspec": {
      "name": "python3",
      "display_name": "Python 3"
    },
    "language_info": {
      "name": "python"
    }
  },
  "cells": [
    {
      "cell_type": "markdown",
      "metadata": {
        "id": "view-in-github",
        "colab_type": "text"
      },
      "source": [
        "<a href=\"https://colab.research.google.com/github/HelderVieira/ppgti1/blob/main/Helder_Vieira_da_Silva_Atividade_Web_Sem%C3%A2ntica.ipynb\" target=\"_parent\"><img src=\"https://colab.research.google.com/assets/colab-badge.svg\" alt=\"Open In Colab\"/></a>"
      ]
    },
    {
      "cell_type": "markdown",
      "source": [
        "# Atividade - Web Semântica"
      ],
      "metadata": {
        "id": "XVRfJc0wCRah"
      }
    },
    {
      "cell_type": "markdown",
      "source": [
        "## Parte 1 - Teoria"
      ],
      "metadata": {
        "id": "rNeTOpkDC4P9"
      }
    },
    {
      "cell_type": "markdown",
      "source": [
        "1. O que é a Web Semântica e como ela difere da Web tradicional?"
      ],
      "metadata": {
        "id": "NFCVg8BNCct3"
      }
    },
    {
      "cell_type": "markdown",
      "source": [
        "De acordo com o artigo \"Linked Data: da Web de Documentos para a\n",
        "Web de Dados\", a Web Semântica é uma extensão da Web atual que tem como objetivo principal facilitar a interpretação e integração de dados na Web.\n",
        "\n",
        "**Diferenças entre a Web Semântica e a Web tradicional (Web de Documentos):**\n",
        "\n",
        "*   **Interpretação de Dados:**\n",
        "    *   **Web Tradicional:** Os dados são organizados principalmente para serem lidos e compreendidos por humanos. A semântica dos conteúdos não é facilmente extraída por agentes de software, exigindo um grande esforço de implementação para que um agente de software possa entender e interpretar os dados.\n",
        "    *   **Web Semântica:** Busca atribuir significado aos dados, interligando-os com outros conjuntos de dados ou domínios de conhecimento. Isso permite que tanto usuários quanto agentes de software possam interpretar e entender os dados de forma mais eficiente.\n",
        "\n",
        "*   **Foco:**\n",
        "    *   **Web Tradicional:** É centrada em documentos, onde a interação é feita principalmente através de navegadores HTML e hiperlinks para navegar entre páginas.\n",
        "    *   **Web Semântica:** É centrada em dados, utilizando tecnologias como RDF (Resource Description Framework) para representar os dados e SPARQL como linguagem de consulta para acessar esses dados.\n",
        "\n",
        "*   **Objetivo:**\n",
        "    *   **Web Tradicional:** Organizar informações para apresentação e leitura humana.\n",
        "    *   **Web Semântica:** Facilitar a interpretação e integração de dados, permitindo a criação de uma \"Web de Dados\" onde os dados são conectados semanticamente e podem ser lidos automaticamente por agentes de software.\n",
        "\n",
        "Em resumo, a Web Semântica representa uma evolução da Web atual, buscando torná-la mais inteligente e capaz de processar e interligar informações de forma automática, facilitando a criação de aplicações mais complexas e eficientes."
      ],
      "metadata": {
        "id": "-yWuHQiPCcws"
      }
    },
    {
      "cell_type": "markdown",
      "source": [
        "2. \tQual a diferença entre Linked Data, Linked Open Data e Dados Abertos?"
      ],
      "metadata": {
        "id": "HGv1c8kqCccy"
      }
    },
    {
      "cell_type": "markdown",
      "source": [
        "* **Linked Data**: Refere-se a um conjunto de práticas para publicar e conectar dados estruturados na Web, com o objetivo de criar uma \"Web de Dados\". Essas práticas são fundamentadas em tecnologias Web, como HTTP e URI, para permitir a leitura automática dos dados por agentes de software. O foco está na interligação semântica dos dados, facilitando a integração de informações de diferentes fontes.\n",
        "\n",
        "* **Dados Abertos**: Dados Abertos são dados que podem ser livremente usados, reutilizados e redistribuídos por qualquer pessoa, sujeitos, no máximo, a requisitos de atribuição e compartilhamento. O foco está na acessibilidade e na liberdade de uso dos dados.   "
      ],
      "metadata": {
        "id": "rDKxRLysCuad"
      }
    },
    {
      "cell_type": "markdown",
      "source": [
        "3. O que é o modelo de 5 estrelas de publicação de dados na Web e quais são seus níveis?\n"
      ],
      "metadata": {
        "id": "v1Gct19xCu6O"
      }
    },
    {
      "cell_type": "markdown",
      "source": [
        "O modelo de 5 estrelas de publicação de dados na Web é um esquema de classificação que avalia a qualidade e a abertura dos dados publicados na Web. Cada estrela representa um nível de qualidade e acessibilidade dos dados, tornando-os progressivamente mais úteis e fáceis de usar por pessoas e aplicações.\n",
        "\n",
        "Os níveis do modelo são:\n",
        "\n",
        "\\*. Os dados estão disponíveis na Web em qualquer formato, sob uma licença aberta. Exemplo: um documento PDF sob uma licença aberta.\n",
        "\n",
        "\\*\\*. A condição anterior + disponível como dados estruturados legíveis por máquina. Exemplo: Arquivo Excel ao invés de uma imagem escaneada de uma tabela.\n",
        "\n",
        "\\*\\*\\*. Todas as anteriores + utilizar um formato não proprietário. Exemplo: um arquivo CSV em vez de Excel.\n",
        "\n",
        "\\*\\*\\*\\*. Todas as anteriores + utilizar URIs bem desenhadas para identificar os recursos, então as pessoas podem referenciá-los.\n",
        "\n",
        "\\*\\*\\*\\*\\*. Todas as anteriores + ligar os dados com dados de outros."
      ],
      "metadata": {
        "id": "oRm9TenBCzKb"
      }
    },
    {
      "cell_type": "markdown",
      "source": [
        "## Parte 2 - Prática"
      ],
      "metadata": {
        "id": "oAm_WIu4C573"
      }
    },
    {
      "cell_type": "markdown",
      "source": [
        "### Configuração do Ambiente"
      ],
      "metadata": {
        "id": "mYHuawYTC8zE"
      }
    },
    {
      "cell_type": "markdown",
      "source": [],
      "metadata": {
        "id": "MJhXaDgVzjlQ"
      }
    },
    {
      "cell_type": "markdown",
      "source": [
        "Antes de rodar as consultas, instale a biblioteca necessária e defina o endpoint da DBpedia:"
      ],
      "metadata": {
        "id": "aAWHiJw7DBv8"
      }
    },
    {
      "cell_type": "code",
      "source": [
        "!pip install SPARQLWrapper\n",
        "\n",
        "from SPARQLWrapper import SPARQLWrapper, JSON\n",
        "\n",
        "dbpedia_endpoint = \"https://dbpedia.org/sparql\"\n",
        "\n",
        "def run_sparql_query(query):\n",
        "    sparql = SPARQLWrapper(dbpedia_endpoint)\n",
        "    sparql.setQuery(query)\n",
        "    sparql.setReturnFormat(JSON)\n",
        "    results = sparql.query().convert()\n",
        "    return results[\"results\"][\"bindings\"]"
      ],
      "metadata": {
        "colab": {
          "base_uri": "https://localhost:8080/"
        },
        "id": "irAQ_py-Ct4U",
        "outputId": "40825e57-be53-42fa-b052-cdd244100bf9"
      },
      "execution_count": 1,
      "outputs": [
        {
          "output_type": "stream",
          "name": "stdout",
          "text": [
            "Collecting SPARQLWrapper\n",
            "  Downloading SPARQLWrapper-2.0.0-py3-none-any.whl.metadata (2.0 kB)\n",
            "Collecting rdflib>=6.1.1 (from SPARQLWrapper)\n",
            "  Downloading rdflib-7.1.4-py3-none-any.whl.metadata (11 kB)\n",
            "Requirement already satisfied: pyparsing<4,>=2.1.0 in /usr/local/lib/python3.11/dist-packages (from rdflib>=6.1.1->SPARQLWrapper) (3.2.3)\n",
            "Downloading SPARQLWrapper-2.0.0-py3-none-any.whl (28 kB)\n",
            "Downloading rdflib-7.1.4-py3-none-any.whl (565 kB)\n",
            "\u001b[2K   \u001b[90m━━━━━━━━━━━━━━━━━━━━━━━━━━━━━━━━━━━━━━━━\u001b[0m \u001b[32m565.1/565.1 kB\u001b[0m \u001b[31m6.4 MB/s\u001b[0m eta \u001b[36m0:00:00\u001b[0m\n",
            "\u001b[?25hInstalling collected packages: rdflib, SPARQLWrapper\n",
            "Successfully installed SPARQLWrapper-2.0.0 rdflib-7.1.4\n"
          ]
        }
      ]
    },
    {
      "cell_type": "markdown",
      "source": [
        "Exemplo: Liste os 10 primeiros filmes da DBPedia com título e diretor"
      ],
      "metadata": {
        "id": "5n86R7aRDIcK"
      }
    },
    {
      "cell_type": "code",
      "source": [
        "query = \"\"\"\n",
        "SELECT ?filme ?titulo ?diretor WHERE {\n",
        "  ?filme rdf:type dbo:Film .\n",
        "  ?filme rdfs:label ?titulo .\n",
        "  ?filme dbo:director ?diretor .\n",
        "  FILTER (lang(?titulo) = 'pt')\n",
        "} LIMIT 10\n",
        "\"\"\"\n",
        "\n",
        "results = run_sparql_query(query)\n",
        "for result in results:\n",
        "    print(result)"
      ],
      "metadata": {
        "colab": {
          "base_uri": "https://localhost:8080/"
        },
        "id": "cZHooPfhDMXg",
        "outputId": "bc1de7e3-4673-4a3a-acab-e179bc011cf7"
      },
      "execution_count": 8,
      "outputs": [
        {
          "output_type": "stream",
          "name": "stdout",
          "text": [
            "{'filme': {'type': 'uri', 'value': 'http://dbpedia.org/resource/Ca-bau-kan'}, 'titulo': {'type': 'literal', 'xml:lang': 'pt', 'value': 'Ca-bau-kan'}, 'diretor': {'type': 'uri', 'value': 'http://dbpedia.org/resource/Nia_Dinata'}}\n",
            "{'filme': {'type': 'uri', 'value': 'http://dbpedia.org/resource/Cabaret_(1972_film)'}, 'titulo': {'type': 'literal', 'xml:lang': 'pt', 'value': 'Cabaret (filme)'}, 'diretor': {'type': 'uri', 'value': 'http://dbpedia.org/resource/Bob_Fosse'}}\n",
            "{'filme': {'type': 'uri', 'value': 'http://dbpedia.org/resource/Cabaret_Balkan'}, 'titulo': {'type': 'literal', 'xml:lang': 'pt', 'value': 'Bure baruta'}, 'diretor': {'type': 'uri', 'value': 'http://dbpedia.org/resource/Goran_Paskaljević'}}\n",
            "{'filme': {'type': 'uri', 'value': 'http://dbpedia.org/resource/Cabeza_de_Vaca_(film)'}, 'titulo': {'type': 'literal', 'xml:lang': 'pt', 'value': 'Cabeza de Vaca (filme)'}, 'diretor': {'type': 'uri', 'value': 'http://dbpedia.org/resource/Nicolás_Echevarría'}}\n",
            "{'filme': {'type': 'uri', 'value': 'http://dbpedia.org/resource/Cabezas_cortadas'}, 'titulo': {'type': 'literal', 'xml:lang': 'pt', 'value': 'Cabezas cortadas'}, 'diretor': {'type': 'uri', 'value': 'http://dbpedia.org/resource/Glauber_Rocha'}}\n",
            "{'filme': {'type': 'uri', 'value': 'http://dbpedia.org/resource/Cabin_Boy'}, 'titulo': {'type': 'literal', 'xml:lang': 'pt', 'value': 'Cabin Boy'}, 'diretor': {'type': 'uri', 'value': 'http://dbpedia.org/resource/Adam_Resnick'}}\n",
            "{'filme': {'type': 'uri', 'value': 'http://dbpedia.org/resource/Cabin_Fever:_Patient_Zero'}, 'titulo': {'type': 'literal', 'xml:lang': 'pt', 'value': 'Cabin Fever: Patient Zero'}, 'diretor': {'type': 'uri', 'value': 'http://dbpedia.org/resource/Kaare_Andrews'}}\n",
            "{'filme': {'type': 'uri', 'value': 'http://dbpedia.org/resource/Cabin_Fever_(2002_film)'}, 'titulo': {'type': 'literal', 'xml:lang': 'pt', 'value': 'Cabin Fever (2002)'}, 'diretor': {'type': 'uri', 'value': 'http://dbpedia.org/resource/Eli_Roth'}}\n",
            "{'filme': {'type': 'uri', 'value': 'http://dbpedia.org/resource/Cabin_Fever_2:_Spring_Fever'}, 'titulo': {'type': 'literal', 'xml:lang': 'pt', 'value': 'Cabin Fever 2: Spring Fever'}, 'diretor': {'type': 'uri', 'value': 'http://dbpedia.org/resource/Ti_West'}}\n",
            "{'filme': {'type': 'uri', 'value': 'http://dbpedia.org/resource/Cabin_in_the_Sky_(film)'}, 'titulo': {'type': 'literal', 'xml:lang': 'pt', 'value': 'Cabin in the Sky'}, 'diretor': {'type': 'uri', 'value': 'http://dbpedia.org/resource/Vincente_Minnelli'}}\n"
          ]
        }
      ]
    },
    {
      "cell_type": "markdown",
      "source": [
        "4. Construa uma consulta SPARQL que retorne a data, local de nascimento e nacionalidade do piloto Ayrton Senna."
      ],
      "metadata": {
        "id": "5LJRih0XDR4O"
      }
    },
    {
      "cell_type": "code",
      "source": [
        "query = \"\"\"\n",
        "PREFIX dbo: <http://dbpedia.org/ontology/>\n",
        "PREFIX dbr: <http://dbpedia.org/resource/>\n",
        "PREFIX rdfs: <http://www.w3.org/2000/01/rdf-schema#>\n",
        "\n",
        "SELECT ?dataNascimento ?localNascimentoLabel WHERE {\n",
        "  dbr:Ayrton_Senna dbo:birthDate ?dataNascimento ;\n",
        "                      dbo:birthPlace ?localNascimento .\n",
        "\n",
        "  # Obtendo o rótulo do local de nascimento\n",
        "  ?localNascimento rdfs:label ?localNascimentoLabel .\n",
        "\n",
        "  FILTER (lang(?localNascimentoLabel) = \"pt\")\n",
        "}\n",
        "\"\"\"\n",
        "\n",
        "results = run_sparql_query(query)\n",
        "\n",
        "display(results)"
      ],
      "metadata": {
        "id": "J130kIzsDXAK",
        "colab": {
          "base_uri": "https://localhost:8080/",
          "height": 339
        },
        "outputId": "e8ffb650-dba7-44cf-fb25-35451e924cc9"
      },
      "execution_count": 14,
      "outputs": [
        {
          "output_type": "display_data",
          "data": {
            "text/plain": [
              "[{'dataNascimento': {'type': 'typed-literal',\n",
              "   'datatype': 'http://www.w3.org/2001/XMLSchema#date',\n",
              "   'value': '1960-03-21'},\n",
              "  'localNascimentoLabel': {'type': 'literal',\n",
              "   'xml:lang': 'pt',\n",
              "   'value': 'São Paulo'}},\n",
              " {'dataNascimento': {'type': 'typed-literal',\n",
              "   'datatype': 'http://www.w3.org/2001/XMLSchema#date',\n",
              "   'value': '1960-03-21'},\n",
              "  'localNascimentoLabel': {'type': 'literal',\n",
              "   'xml:lang': 'pt',\n",
              "   'value': 'Grande Prêmio do Brasil de 1986'}},\n",
              " {'dataNascimento': {'type': 'typed-literal',\n",
              "   'datatype': 'http://www.w3.org/2001/XMLSchema#date',\n",
              "   'value': '1960-03-21'},\n",
              "  'localNascimentoLabel': {'type': 'literal',\n",
              "   'xml:lang': 'pt',\n",
              "   'value': 'São Paulo (estado)'}}]"
            ]
          },
          "metadata": {}
        }
      ]
    },
    {
      "cell_type": "markdown",
      "source": [
        "5. Construa uma consulta SPARQL que retorne a data e local de nascimento e a data de morte de Michael Jackson."
      ],
      "metadata": {
        "id": "zfYTO77GGlBY"
      }
    },
    {
      "cell_type": "code",
      "source": [
        "query = \"\"\"\n",
        "PREFIX dbo: <http://dbpedia.org/ontology/>\n",
        "PREFIX dbr: <http://dbpedia.org/resource/>\n",
        "PREFIX rdfs: <http://www.w3.org/2000/01/rdf-schema#>\n",
        "\n",
        "SELECT ?dataNascimento ?localNascimentoLabel ?dataMorte WHERE {\n",
        "  dbr:Michael_Jackson dbo:birthDate ?dataNascimento ;\n",
        "                      dbo:birthPlace ?localNascimento ;\n",
        "                      dbo:deathDate ?dataMorte .\n",
        "\n",
        "  # Obtendo o rótulo do local de nascimento\n",
        "  ?localNascimento rdfs:label ?localNascimentoLabel .\n",
        "\n",
        "  FILTER (lang(?localNascimentoLabel) = \"pt\")\n",
        "}\n",
        "\"\"\"\n",
        "\n",
        "results = run_sparql_query(query)\n",
        "for result in results:\n",
        "    print(result)"
      ],
      "metadata": {
        "id": "7m3MDpG5Gu0d",
        "colab": {
          "base_uri": "https://localhost:8080/"
        },
        "outputId": "e7994c28-f2a5-4aa6-f54e-fdd2e38d734d"
      },
      "execution_count": 12,
      "outputs": [
        {
          "output_type": "stream",
          "name": "stdout",
          "text": [
            "{'dataNascimento': {'type': 'typed-literal', 'datatype': 'http://www.w3.org/2001/XMLSchema#date', 'value': '1958-08-29'}, 'localNascimentoLabel': {'type': 'literal', 'xml:lang': 'pt', 'value': 'Gary (Indiana)'}, 'dataMorte': {'type': 'typed-literal', 'datatype': 'http://www.w3.org/2001/XMLSchema#date', 'value': '2009-06-25'}}\n"
          ]
        }
      ]
    },
    {
      "cell_type": "code",
      "source": [],
      "metadata": {
        "id": "Y14Nk9GfH6a3"
      },
      "execution_count": null,
      "outputs": []
    }
  ]
}